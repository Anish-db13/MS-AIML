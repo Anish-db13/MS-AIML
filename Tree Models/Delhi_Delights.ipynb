{
 "cells": [
  {
   "cell_type": "code",
   "execution_count": 2,
   "id": "8bc885ca-ce38-40a9-836f-0e980f952100",
   "metadata": {},
   "outputs": [],
   "source": [
    "import pandas as pd, numpy as np, matplotlib.pyplot as plt, seaborn  as  sns"
   ]
  },
  {
   "cell_type": "code",
   "execution_count": 3,
   "id": "ef8d1a57-f9b0-41db-a9c4-13e1ee10dd8e",
   "metadata": {},
   "outputs": [],
   "source": [
    "df = pd.read_csv(\"Delhi+Delights+Data.csv\")"
   ]
  },
  {
   "cell_type": "code",
   "execution_count": 4,
   "id": "a4945f33-fb53-465c-98ff-e136c11a4743",
   "metadata": {},
   "outputs": [
    {
     "data": {
      "text/html": [
       "<div>\n",
       "<style scoped>\n",
       "    .dataframe tbody tr th:only-of-type {\n",
       "        vertical-align: middle;\n",
       "    }\n",
       "\n",
       "    .dataframe tbody tr th {\n",
       "        vertical-align: top;\n",
       "    }\n",
       "\n",
       "    .dataframe thead th {\n",
       "        text-align: right;\n",
       "    }\n",
       "</style>\n",
       "<table border=\"1\" class=\"dataframe\">\n",
       "  <thead>\n",
       "    <tr style=\"text-align: right;\">\n",
       "      <th></th>\n",
       "      <th>Average Delivery Rating (a1)</th>\n",
       "      <th>Average Orders per month (a2)</th>\n",
       "      <th>\"Delighted Members\" Purchase</th>\n",
       "    </tr>\n",
       "  </thead>\n",
       "  <tbody>\n",
       "    <tr>\n",
       "      <th>0</th>\n",
       "      <td>1.5</td>\n",
       "      <td>11</td>\n",
       "      <td>Yes</td>\n",
       "    </tr>\n",
       "    <tr>\n",
       "      <th>1</th>\n",
       "      <td>2.5</td>\n",
       "      <td>11</td>\n",
       "      <td>No</td>\n",
       "    </tr>\n",
       "    <tr>\n",
       "      <th>2</th>\n",
       "      <td>2.5</td>\n",
       "      <td>11</td>\n",
       "      <td>No</td>\n",
       "    </tr>\n",
       "    <tr>\n",
       "      <th>3</th>\n",
       "      <td>3.5</td>\n",
       "      <td>11</td>\n",
       "      <td>No</td>\n",
       "    </tr>\n",
       "    <tr>\n",
       "      <th>4</th>\n",
       "      <td>3.5</td>\n",
       "      <td>11</td>\n",
       "      <td>No</td>\n",
       "    </tr>\n",
       "  </tbody>\n",
       "</table>\n",
       "</div>"
      ],
      "text/plain": [
       "   Average Delivery Rating (a1)  Average Orders per month (a2)  \\\n",
       "0                           1.5                             11   \n",
       "1                           2.5                             11   \n",
       "2                           2.5                             11   \n",
       "3                           3.5                             11   \n",
       "4                           3.5                             11   \n",
       "\n",
       "  \"Delighted Members\" Purchase  \n",
       "0                          Yes  \n",
       "1                           No  \n",
       "2                           No  \n",
       "3                           No  \n",
       "4                           No  "
      ]
     },
     "execution_count": 4,
     "metadata": {},
     "output_type": "execute_result"
    }
   ],
   "source": [
    "df.head()"
   ]
  },
  {
   "cell_type": "code",
   "execution_count": 10,
   "id": "00e427fb-c02c-47b7-b531-b4d978d4d782",
   "metadata": {},
   "outputs": [
    {
     "data": {
      "text/plain": [
       "Index(['Average Delivery Rating (a1)', 'Average Orders per month (a2)',\n",
       "       '\"Delighted Members\" Purchase'],\n",
       "      dtype='object')"
      ]
     },
     "execution_count": 10,
     "metadata": {},
     "output_type": "execute_result"
    }
   ],
   "source": [
    "df.columns"
   ]
  },
  {
   "cell_type": "code",
   "execution_count": 15,
   "id": "e20c1d53-10c9-431c-a1ce-95232887b071",
   "metadata": {},
   "outputs": [
    {
     "data": {
      "text/plain": [
       "\"Delighted Members\" Purchase\n",
       "Yes    15\n",
       "No     15\n",
       "Name: count, dtype: int64"
      ]
     },
     "execution_count": 15,
     "metadata": {},
     "output_type": "execute_result"
    }
   ],
   "source": [
    "df[\"\\\"Delighted Members\\\" Purchase\"].value_counts()"
   ]
  },
  {
   "cell_type": "code",
   "execution_count": 16,
   "id": "c385c0f5-6b58-467b-bb92-140c7470cbea",
   "metadata": {},
   "outputs": [
    {
     "data": {
      "text/plain": [
       "(   Average Delivery Rating (a1)  Average Orders per month (a2)  \\\n",
       " 0                           1.5                             11   \n",
       " 1                           2.5                             11   \n",
       " 2                           2.5                             11   \n",
       " 3                           3.5                             11   \n",
       " 4                           3.5                             11   \n",
       " \n",
       "   \"Delighted Members\" Purchase  \n",
       " 0                          Yes  \n",
       " 1                           No  \n",
       " 2                           No  \n",
       " 3                           No  \n",
       " 4                           No  ,\n",
       " \"Delighted Members\" Purchase\n",
       " Yes    15\n",
       " No     15\n",
       " Name: count, dtype: int64)"
      ]
     },
     "execution_count": 16,
     "metadata": {},
     "output_type": "execute_result"
    }
   ],
   "source": [
    "# Show the first few rows and the value counts for the class label\n",
    "df.head(), df.iloc[:, 2].value_counts()"
   ]
  },
  {
   "cell_type": "code",
   "execution_count": 21,
   "id": "88f2b4a3-eabf-4a94-b3a9-5652d7cb4041",
   "metadata": {},
   "outputs": [
    {
     "ename": "NameError",
     "evalue": "name 'gini_index' is not defined",
     "output_type": "error",
     "traceback": [
      "\u001b[1;31m---------------------------------------------------------------------------\u001b[0m",
      "\u001b[1;31mNameError\u001b[0m                                 Traceback (most recent call last)",
      "Cell \u001b[1;32mIn[21], line 10\u001b[0m\n\u001b[0;32m      7\u001b[0m split_3 \u001b[38;5;241m=\u001b[39m left_partition[left_partition[\u001b[38;5;124m'\u001b[39m\u001b[38;5;124mAverage Delivery Rating (a1)\u001b[39m\u001b[38;5;124m'\u001b[39m] \u001b[38;5;241m>\u001b[39m\u001b[38;5;241m=\u001b[39m \u001b[38;5;241m4.5\u001b[39m]\n\u001b[0;32m      9\u001b[0m \u001b[38;5;66;03m# Calculate Gini index for each partition\u001b[39;00m\n\u001b[1;32m---> 10\u001b[0m gini_1 \u001b[38;5;241m=\u001b[39m \u001b[43mgini_index\u001b[49m(split_1)\n\u001b[0;32m     11\u001b[0m gini_2 \u001b[38;5;241m=\u001b[39m gini_index(split_2)\n\u001b[0;32m     12\u001b[0m gini_3 \u001b[38;5;241m=\u001b[39m gini_index(split_3)\n",
      "\u001b[1;31mNameError\u001b[0m: name 'gini_index' is not defined"
     ]
    }
   ],
   "source": [
    "# Splitting the left partition (a2 < 20) first\n",
    "left_partition = df[df['Average Orders per month (a2)'] < 20]\n",
    "\n",
    "# Now apply the given split: first on a1 < 1.5, then on a1 < 4.5 (i.e., 3 partitions)\n",
    "split_1 = left_partition[left_partition['Average Delivery Rating (a1)'] < 1.5]\n",
    "split_2 = left_partition[(left_partition['Average Delivery Rating (a1)'] >= 1.5) & (left_partition['Average Delivery Rating (a1)'] < 4.5)]\n",
    "split_3 = left_partition[left_partition['Average Delivery Rating (a1)'] >= 4.5]\n",
    "\n",
    "# Calculate Gini index for each partition\n",
    "gini_1 = gini_index(split_1)\n",
    "gini_2 = gini_index(split_2)\n",
    "gini_3 = gini_index(split_3)\n",
    "\n",
    "# Calculate total length\n",
    "total_left = len(left_partition)\n",
    "\n",
    "# Weighted Gini index after splitting into three groups\n",
    "weighted_gini_split = (\n",
    "    len(split_1)/total_left * gini_1 +\n",
    "    len(split_2)/total_left * gini_2 +\n",
    "    len(split_3)/total_left * gini_3\n",
    ")\n",
    "\n",
    "gini_1, gini_2, gini_3, weighted_gini_split\n"
   ]
  },
  {
   "cell_type": "code",
   "execution_count": null,
   "id": "f5622a95-0c68-4e52-ae7b-a6ebb2ae78e2",
   "metadata": {},
   "outputs": [],
   "source": []
  }
 ],
 "metadata": {
  "kernelspec": {
   "display_name": "Python 3 (ipykernel)",
   "language": "python",
   "name": "python3"
  },
  "language_info": {
   "codemirror_mode": {
    "name": "ipython",
    "version": 3
   },
   "file_extension": ".py",
   "mimetype": "text/x-python",
   "name": "python",
   "nbconvert_exporter": "python",
   "pygments_lexer": "ipython3",
   "version": "3.13.2"
  }
 },
 "nbformat": 4,
 "nbformat_minor": 5
}
