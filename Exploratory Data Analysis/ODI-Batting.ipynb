{
 "cells": [
  {
   "cell_type": "code",
   "execution_count": 1,
   "id": "b5430e91-8564-43ec-86f9-222c76e49b0b",
   "metadata": {},
   "outputs": [],
   "source": [
    "import pandas as pd, seaborn as sns, matplotlib.pyplot as plt"
   ]
  },
  {
   "cell_type": "code",
   "execution_count": 3,
   "id": "ad91264b-cdff-4195-81c1-c4258265df84",
   "metadata": {},
   "outputs": [],
   "source": [
    "df = pd.read_csv(\"odi-batting.csv\")"
   ]
  },
  {
   "cell_type": "code",
   "execution_count": 11,
   "id": "c013747a-0c5d-41cd-89f4-ec8d4a78e7e0",
   "metadata": {},
   "outputs": [
    {
     "data": {
      "text/plain": [
       "Player\n",
       "Sachin R Tendulkar      422\n",
       "Sanath T Jayasuriya     399\n",
       "Ricky T Ponting         340\n",
       "Inzamam-ul-Haq          330\n",
       "Rahul Dravid            305\n",
       "                       ... \n",
       "David S Steele            1\n",
       "Kenneth Shuttleworth      1\n",
       "Adrian P Grayson          1\n",
       "Paul J Franks             1\n",
       "Waddington Mwayenga       1\n",
       "Name: count, Length: 1883, dtype: int64"
      ]
     },
     "execution_count": 11,
     "metadata": {},
     "output_type": "execute_result"
    }
   ],
   "source": [
    "df.head()\n",
    "df[\"Player\"].value_counts()"
   ]
  },
  {
   "cell_type": "code",
   "execution_count": 7,
   "id": "5329d44f-2b57-43a7-9272-565d4ad8b2a0",
   "metadata": {},
   "outputs": [
    {
     "data": {
      "text/plain": [
       "(50284, 8)"
      ]
     },
     "execution_count": 7,
     "metadata": {},
     "output_type": "execute_result"
    }
   ],
   "source": [
    "df.shape"
   ]
  },
  {
   "cell_type": "code",
   "execution_count": 19,
   "id": "69f78f53-5763-47af-a10d-70695cb67925",
   "metadata": {},
   "outputs": [
    {
     "data": {
      "text/plain": [
       "48"
      ]
     },
     "execution_count": 19,
     "metadata": {},
     "output_type": "execute_result"
    }
   ],
   "source": [
    "df[(df[\"Player\"] == \"Sachin R Tendulkar\") & (df[\"Runs\"] >= 100)][\"Runs\"].count()"
   ]
  },
  {
   "cell_type": "code",
   "execution_count": 21,
   "id": "234921a5-e9c4-4f78-b4ed-7607ead82b42",
   "metadata": {},
   "outputs": [
    {
     "data": {
      "text/html": [
       "<div>\n",
       "<style scoped>\n",
       "    .dataframe tbody tr th:only-of-type {\n",
       "        vertical-align: middle;\n",
       "    }\n",
       "\n",
       "    .dataframe tbody tr th {\n",
       "        vertical-align: top;\n",
       "    }\n",
       "\n",
       "    .dataframe thead th {\n",
       "        text-align: right;\n",
       "    }\n",
       "</style>\n",
       "<table border=\"1\" class=\"dataframe\">\n",
       "  <thead>\n",
       "    <tr style=\"text-align: right;\">\n",
       "      <th></th>\n",
       "      <th>Country</th>\n",
       "      <th>Player</th>\n",
       "      <th>Runs</th>\n",
       "      <th>MatchDate</th>\n",
       "      <th>Weekday</th>\n",
       "      <th>Ground</th>\n",
       "      <th>Versus</th>\n",
       "      <th>Balls</th>\n",
       "    </tr>\n",
       "  </thead>\n",
       "  <tbody>\n",
       "    <tr>\n",
       "      <th>0</th>\n",
       "      <td>Afghanistan</td>\n",
       "      <td>Mohammad Shahzad</td>\n",
       "      <td>118</td>\n",
       "      <td>16-02-2010</td>\n",
       "      <td>Tue</td>\n",
       "      <td>Sharjah CA Stadium</td>\n",
       "      <td>Canada</td>\n",
       "      <td>121</td>\n",
       "    </tr>\n",
       "    <tr>\n",
       "      <th>1</th>\n",
       "      <td>Afghanistan</td>\n",
       "      <td>Mohammad Shahzad</td>\n",
       "      <td>110</td>\n",
       "      <td>01-09-2009</td>\n",
       "      <td>Tue</td>\n",
       "      <td>VRA Ground</td>\n",
       "      <td>Netherlands</td>\n",
       "      <td>111</td>\n",
       "    </tr>\n",
       "    <tr>\n",
       "      <th>2</th>\n",
       "      <td>Afghanistan</td>\n",
       "      <td>Mohammad Shahzad</td>\n",
       "      <td>100</td>\n",
       "      <td>16-08-2010</td>\n",
       "      <td>Mon</td>\n",
       "      <td>Cambusdoon New Ground</td>\n",
       "      <td>Scotland</td>\n",
       "      <td>72</td>\n",
       "    </tr>\n",
       "    <tr>\n",
       "      <th>3</th>\n",
       "      <td>Afghanistan</td>\n",
       "      <td>Mohammad Shahzad</td>\n",
       "      <td>82</td>\n",
       "      <td>10-07-2010</td>\n",
       "      <td>Sat</td>\n",
       "      <td>Hazelaarweg</td>\n",
       "      <td>Netherlands</td>\n",
       "      <td>108</td>\n",
       "    </tr>\n",
       "    <tr>\n",
       "      <th>4</th>\n",
       "      <td>Afghanistan</td>\n",
       "      <td>Mohammad Shahzad</td>\n",
       "      <td>57</td>\n",
       "      <td>01-07-2010</td>\n",
       "      <td>Thu</td>\n",
       "      <td>Sportpark Westvliet</td>\n",
       "      <td>Canada</td>\n",
       "      <td>57</td>\n",
       "    </tr>\n",
       "  </tbody>\n",
       "</table>\n",
       "</div>"
      ],
      "text/plain": [
       "       Country            Player  Runs   MatchDate Weekday  \\\n",
       "0  Afghanistan  Mohammad Shahzad   118  16-02-2010     Tue   \n",
       "1  Afghanistan  Mohammad Shahzad   110  01-09-2009     Tue   \n",
       "2  Afghanistan  Mohammad Shahzad   100  16-08-2010     Mon   \n",
       "3  Afghanistan  Mohammad Shahzad    82  10-07-2010     Sat   \n",
       "4  Afghanistan  Mohammad Shahzad    57  01-07-2010     Thu   \n",
       "\n",
       "                  Ground       Versus  Balls  \n",
       "0     Sharjah CA Stadium       Canada    121  \n",
       "1             VRA Ground  Netherlands    111  \n",
       "2  Cambusdoon New Ground     Scotland     72  \n",
       "3            Hazelaarweg  Netherlands    108  \n",
       "4    Sportpark Westvliet       Canada     57  "
      ]
     },
     "execution_count": 21,
     "metadata": {},
     "output_type": "execute_result"
    }
   ],
   "source": [
    "df.head()"
   ]
  },
  {
   "cell_type": "code",
   "execution_count": 27,
   "id": "45b198ed-ba77-4d24-922f-9e7cc1e26b72",
   "metadata": {},
   "outputs": [],
   "source": [
    "df[\"Year\"] = df[\"MatchDate\"].str[-4:]"
   ]
  },
  {
   "cell_type": "code",
   "execution_count": 47,
   "id": "132090ae-43e1-4a27-b5a7-477110304444",
   "metadata": {},
   "outputs": [
    {
     "data": {
      "text/plain": [
       "Year\n",
       "2007    2958\n",
       "2006    2565\n",
       "1999    2424\n",
       "2009    2340\n",
       "2010    2267\n",
       "2002    2267\n",
       "2003    2228\n",
       "2011    2091\n",
       "2000    2047\n",
       "1996    2029\n",
       "2004    1956\n",
       "2008    1932\n",
       "2001    1887\n",
       "1997    1801\n",
       "1998    1755\n",
       "2005    1707\n",
       "1994    1505\n",
       "1992    1367\n",
       "1993    1272\n",
       "1987    1209\n",
       "1983    1040\n",
       "1995    1001\n",
       "1988     991\n",
       "1985     957\n",
       "1986     944\n",
       "1990     925\n",
       "1989     856\n",
       "1984     786\n",
       "1991     628\n",
       "1982     502\n",
       "1981     435\n",
       "1979     387\n",
       "1980     344\n",
       "1975     293\n",
       "1978     158\n",
       "1976     102\n",
       "1977      99\n",
       "1974      86\n",
       "1973      75\n",
       "1972      50\n",
       "1971      18\n",
       "Name: count, dtype: int64"
      ]
     },
     "execution_count": 47,
     "metadata": {},
     "output_type": "execute_result"
    }
   ],
   "source": [
    "df.head()\n",
    "df[\"Country\"].value_counts()\n",
    "df[\"Year\"].value_counts()"
   ]
  },
  {
   "cell_type": "code",
   "execution_count": 73,
   "id": "715c82a3-df19-42a3-a93e-79995a1f4d95",
   "metadata": {},
   "outputs": [
    {
     "data": {
      "text/plain": [
       "(15, 9)"
      ]
     },
     "execution_count": 73,
     "metadata": {},
     "output_type": "execute_result"
    }
   ],
   "source": [
    "df[(df[\"Country\"] == \"India\") & (df[\"Runs\"] >= 100) & (df[\"Year\"] == \"1999\")].shape\n",
    "\n"
   ]
  },
  {
   "cell_type": "code",
   "execution_count": null,
   "id": "68908a84-ae7f-41ad-93dc-666fdebf7b36",
   "metadata": {},
   "outputs": [],
   "source": []
  }
 ],
 "metadata": {
  "kernelspec": {
   "display_name": "Python 3 (ipykernel)",
   "language": "python",
   "name": "python3"
  },
  "language_info": {
   "codemirror_mode": {
    "name": "ipython",
    "version": 3
   },
   "file_extension": ".py",
   "mimetype": "text/x-python",
   "name": "python",
   "nbconvert_exporter": "python",
   "pygments_lexer": "ipython3",
   "version": "3.12.7"
  }
 },
 "nbformat": 4,
 "nbformat_minor": 5
}
