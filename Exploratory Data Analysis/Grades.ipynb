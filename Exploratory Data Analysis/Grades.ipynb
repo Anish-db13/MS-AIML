{
 "cells": [
  {
   "cell_type": "code",
   "execution_count": 123,
   "id": "65e4d640-d217-474a-bffc-dc1c1e493988",
   "metadata": {},
   "outputs": [],
   "source": [
    "import pandas as pd, seaborn as sns, matplotlib.pyplot as plt"
   ]
  },
  {
   "cell_type": "code",
   "execution_count": 125,
   "id": "08188791-2f6a-4817-9a93-c70b69a30bb8",
   "metadata": {},
   "outputs": [],
   "source": [
    "df = pd.read_csv(\"grades.csv\")"
   ]
  },
  {
   "cell_type": "code",
   "execution_count": 137,
   "id": "0bf3152c-c47a-44ad-a77c-39e903c42f98",
   "metadata": {},
   "outputs": [
    {
     "data": {
      "text/plain": [
       "(198, 3)"
      ]
     },
     "execution_count": 137,
     "metadata": {},
     "output_type": "execute_result"
    }
   ],
   "source": [
    "df.head()\n",
    "df.shape"
   ]
  },
  {
   "cell_type": "code",
   "execution_count": 139,
   "id": "19c3a8da-d012-48e4-939b-3361fba72fda",
   "metadata": {},
   "outputs": [
    {
     "data": {
      "text/plain": [
       "'https://ckd.upgrad.com/UpGrad/73ba5189-94fd-44aa-88d3-6b36aaa69b02/DDA1610095.zip'"
      ]
     },
     "execution_count": 139,
     "metadata": {},
     "output_type": "execute_result"
    }
   ],
   "source": [
    "df.iloc[0,0]"
   ]
  },
  {
   "cell_type": "code",
   "execution_count": 141,
   "id": "ef72b5d4-36f2-4215-897e-84714db15642",
   "metadata": {},
   "outputs": [],
   "source": [
    "df['File_Extension'] = df['submission'].str.split('.').str[-1]"
   ]
  },
  {
   "cell_type": "code",
   "execution_count": 143,
   "id": "30e8200d-51d7-414d-96ab-8de6cb25d067",
   "metadata": {},
   "outputs": [
    {
     "data": {
      "text/html": [
       "<div>\n",
       "<style scoped>\n",
       "    .dataframe tbody tr th:only-of-type {\n",
       "        vertical-align: middle;\n",
       "    }\n",
       "\n",
       "    .dataframe tbody tr th {\n",
       "        vertical-align: top;\n",
       "    }\n",
       "\n",
       "    .dataframe thead th {\n",
       "        text-align: right;\n",
       "    }\n",
       "</style>\n",
       "<table border=\"1\" class=\"dataframe\">\n",
       "  <thead>\n",
       "    <tr style=\"text-align: right;\">\n",
       "      <th></th>\n",
       "      <th>submission</th>\n",
       "      <th>submit_time</th>\n",
       "      <th>File_Extension</th>\n",
       "    </tr>\n",
       "  </thead>\n",
       "  <tbody>\n",
       "    <tr>\n",
       "      <th>0</th>\n",
       "      <td>https://ckd.upgrad.com/UpGrad/73ba5189-94fd-44...</td>\n",
       "      <td>01/03/17-20:28:52</td>\n",
       "      <td>zip</td>\n",
       "    </tr>\n",
       "    <tr>\n",
       "      <th>1</th>\n",
       "      <td>https://ckd.upgrad.com/UpGrad/185242ff-7508-4c...</td>\n",
       "      <td>01/03/17-20:18:21</td>\n",
       "      <td>zip</td>\n",
       "    </tr>\n",
       "    <tr>\n",
       "      <th>2</th>\n",
       "      <td>https://ckd.upgrad.com/UpGrad/a353d129-c100-43...</td>\n",
       "      <td>01/03/17-22:37:08</td>\n",
       "      <td>zip</td>\n",
       "    </tr>\n",
       "    <tr>\n",
       "      <th>3</th>\n",
       "      <td>https://ckd.upgrad.com/UpGrad/002fc912-faa1-49...</td>\n",
       "      <td>01/02/17-21:43:19</td>\n",
       "      <td>zip</td>\n",
       "    </tr>\n",
       "    <tr>\n",
       "      <th>4</th>\n",
       "      <td>https://ckd.upgrad.com/UpGrad/25cbc4a4-6d49-4f...</td>\n",
       "      <td>01/03/17-15:27:49</td>\n",
       "      <td>zip</td>\n",
       "    </tr>\n",
       "  </tbody>\n",
       "</table>\n",
       "</div>"
      ],
      "text/plain": [
       "                                          submission        submit_time  \\\n",
       "0  https://ckd.upgrad.com/UpGrad/73ba5189-94fd-44...  01/03/17-20:28:52   \n",
       "1  https://ckd.upgrad.com/UpGrad/185242ff-7508-4c...  01/03/17-20:18:21   \n",
       "2  https://ckd.upgrad.com/UpGrad/a353d129-c100-43...  01/03/17-22:37:08   \n",
       "3  https://ckd.upgrad.com/UpGrad/002fc912-faa1-49...  01/02/17-21:43:19   \n",
       "4  https://ckd.upgrad.com/UpGrad/25cbc4a4-6d49-4f...  01/03/17-15:27:49   \n",
       "\n",
       "  File_Extension  \n",
       "0            zip  \n",
       "1            zip  \n",
       "2            zip  \n",
       "3            zip  \n",
       "4            zip  "
      ]
     },
     "execution_count": 143,
     "metadata": {},
     "output_type": "execute_result"
    }
   ],
   "source": [
    "df.head()"
   ]
  },
  {
   "cell_type": "code",
   "execution_count": 145,
   "id": "b97cef83-6a5d-4a0e-9226-0cc0bb6fadb3",
   "metadata": {},
   "outputs": [
    {
     "data": {
      "text/plain": [
       "File_Extension\n",
       "zip    189\n",
       "R        7\n",
       "7z       2\n",
       "Name: count, dtype: int64"
      ]
     },
     "execution_count": 145,
     "metadata": {},
     "output_type": "execute_result"
    }
   ],
   "source": [
    "df['File_Extension'].value_counts()"
   ]
  },
  {
   "cell_type": "code",
   "execution_count": 147,
   "id": "630dbe7d-600b-4c2f-8631-cb2f972b380b",
   "metadata": {},
   "outputs": [
    {
     "data": {
      "text/plain": [
       "(198, 3)"
      ]
     },
     "execution_count": 147,
     "metadata": {},
     "output_type": "execute_result"
    }
   ],
   "source": [
    "df.shape"
   ]
  },
  {
   "cell_type": "code",
   "execution_count": 149,
   "id": "9c2e9e3c-09c5-4a48-bdad-fb833aeeb0e7",
   "metadata": {},
   "outputs": [
    {
     "data": {
      "text/plain": [
       "0.9545454545454546"
      ]
     },
     "execution_count": 149,
     "metadata": {},
     "output_type": "execute_result"
    }
   ],
   "source": [
    "189/198"
   ]
  },
  {
   "cell_type": "code",
   "execution_count": 151,
   "id": "0afb5389-e7c2-4d6c-ae26-7eed55e23093",
   "metadata": {},
   "outputs": [
    {
     "data": {
      "text/plain": [
       "submit_time\n",
       "01/03/17-20:28:52    1\n",
       "12/29/16-03:13:50    1\n",
       "01/04/17-00:00:26    1\n",
       "01/03/17-23:46:39    1\n",
       "01/03/17-01:04:10    1\n",
       "                    ..\n",
       "01/03/17-22:35:42    1\n",
       "01/03/17-23:57:37    1\n",
       "01/03/17-20:45:34    1\n",
       "01/03/17-20:39:49    1\n",
       "01/03/17-22:32:38    1\n",
       "Name: count, Length: 198, dtype: int64"
      ]
     },
     "execution_count": 151,
     "metadata": {},
     "output_type": "execute_result"
    }
   ],
   "source": [
    "df[\"submit_time\"].value_counts()"
   ]
  },
  {
   "cell_type": "code",
   "execution_count": 169,
   "id": "dbe1c153-27e9-4e7c-b831-b8d7d99632a0",
   "metadata": {},
   "outputs": [],
   "source": [
    "df[\"Date\"] = df[\"submit_time\"].str[:8]\n",
    "df[\"Year\"] = df[\"submit_time\"].str[6:8]"
   ]
  },
  {
   "cell_type": "code",
   "execution_count": 171,
   "id": "d55c4fff-74d2-4002-9eaa-f7ff6c80b429",
   "metadata": {},
   "outputs": [
    {
     "data": {
      "text/html": [
       "<div>\n",
       "<style scoped>\n",
       "    .dataframe tbody tr th:only-of-type {\n",
       "        vertical-align: middle;\n",
       "    }\n",
       "\n",
       "    .dataframe tbody tr th {\n",
       "        vertical-align: top;\n",
       "    }\n",
       "\n",
       "    .dataframe thead th {\n",
       "        text-align: right;\n",
       "    }\n",
       "</style>\n",
       "<table border=\"1\" class=\"dataframe\">\n",
       "  <thead>\n",
       "    <tr style=\"text-align: right;\">\n",
       "      <th></th>\n",
       "      <th>submission</th>\n",
       "      <th>submit_time</th>\n",
       "      <th>File_Extension</th>\n",
       "      <th>Date</th>\n",
       "      <th>Year</th>\n",
       "    </tr>\n",
       "  </thead>\n",
       "  <tbody>\n",
       "    <tr>\n",
       "      <th>0</th>\n",
       "      <td>https://ckd.upgrad.com/UpGrad/73ba5189-94fd-44...</td>\n",
       "      <td>01/03/17-20:28:52</td>\n",
       "      <td>zip</td>\n",
       "      <td>01/03/17</td>\n",
       "      <td>17</td>\n",
       "    </tr>\n",
       "    <tr>\n",
       "      <th>1</th>\n",
       "      <td>https://ckd.upgrad.com/UpGrad/185242ff-7508-4c...</td>\n",
       "      <td>01/03/17-20:18:21</td>\n",
       "      <td>zip</td>\n",
       "      <td>01/03/17</td>\n",
       "      <td>17</td>\n",
       "    </tr>\n",
       "    <tr>\n",
       "      <th>2</th>\n",
       "      <td>https://ckd.upgrad.com/UpGrad/a353d129-c100-43...</td>\n",
       "      <td>01/03/17-22:37:08</td>\n",
       "      <td>zip</td>\n",
       "      <td>01/03/17</td>\n",
       "      <td>17</td>\n",
       "    </tr>\n",
       "    <tr>\n",
       "      <th>3</th>\n",
       "      <td>https://ckd.upgrad.com/UpGrad/002fc912-faa1-49...</td>\n",
       "      <td>01/02/17-21:43:19</td>\n",
       "      <td>zip</td>\n",
       "      <td>01/02/17</td>\n",
       "      <td>17</td>\n",
       "    </tr>\n",
       "    <tr>\n",
       "      <th>4</th>\n",
       "      <td>https://ckd.upgrad.com/UpGrad/25cbc4a4-6d49-4f...</td>\n",
       "      <td>01/03/17-15:27:49</td>\n",
       "      <td>zip</td>\n",
       "      <td>01/03/17</td>\n",
       "      <td>17</td>\n",
       "    </tr>\n",
       "  </tbody>\n",
       "</table>\n",
       "</div>"
      ],
      "text/plain": [
       "                                          submission        submit_time  \\\n",
       "0  https://ckd.upgrad.com/UpGrad/73ba5189-94fd-44...  01/03/17-20:28:52   \n",
       "1  https://ckd.upgrad.com/UpGrad/185242ff-7508-4c...  01/03/17-20:18:21   \n",
       "2  https://ckd.upgrad.com/UpGrad/a353d129-c100-43...  01/03/17-22:37:08   \n",
       "3  https://ckd.upgrad.com/UpGrad/002fc912-faa1-49...  01/02/17-21:43:19   \n",
       "4  https://ckd.upgrad.com/UpGrad/25cbc4a4-6d49-4f...  01/03/17-15:27:49   \n",
       "\n",
       "  File_Extension      Date Year  \n",
       "0            zip  01/03/17   17  \n",
       "1            zip  01/03/17   17  \n",
       "2            zip  01/03/17   17  \n",
       "3            zip  01/02/17   17  \n",
       "4            zip  01/03/17   17  "
      ]
     },
     "execution_count": 171,
     "metadata": {},
     "output_type": "execute_result"
    }
   ],
   "source": [
    "df.head()"
   ]
  },
  {
   "cell_type": "code",
   "execution_count": 173,
   "id": "a940ccf6-5d39-4a24-8998-95c1be4bf912",
   "metadata": {},
   "outputs": [
    {
     "data": {
      "text/plain": [
       "Date\n",
       "01/03/17    120\n",
       "01/09/17     21\n",
       "01/02/17     14\n",
       "01/04/17     12\n",
       "12/30/16      6\n",
       "01/01/17      6\n",
       "01/08/17      3\n",
       "01/10/17      3\n",
       "12/29/16      2\n",
       "12/28/16      2\n",
       "01/07/17      2\n",
       "01/17/17      1\n",
       "02/03/17      1\n",
       "12/21/16      1\n",
       "01/06/17      1\n",
       "11/19/16      1\n",
       "12/31/16      1\n",
       "12/19/16      1\n",
       "Name: count, dtype: int64"
      ]
     },
     "execution_count": 173,
     "metadata": {},
     "output_type": "execute_result"
    }
   ],
   "source": [
    "df['Date'].value_counts()"
   ]
  },
  {
   "cell_type": "code",
   "execution_count": 179,
   "id": "90ada1d1-6c6d-461a-b380-8976c41ca18c",
   "metadata": {},
   "outputs": [
    {
     "data": {
      "text/plain": [
       "submit_time\n",
       "23    66\n",
       "21    27\n",
       "22    24\n",
       "20    16\n",
       "00    10\n",
       "01     8\n",
       "14     6\n",
       "18     6\n",
       "13     6\n",
       "15     4\n",
       "17     4\n",
       "12     3\n",
       "10     3\n",
       "03     3\n",
       "19     2\n",
       "04     2\n",
       "16     2\n",
       "02     2\n",
       "06     1\n",
       "08     1\n",
       "11     1\n",
       "09     1\n",
       "Name: count, dtype: int64"
      ]
     },
     "execution_count": 179,
     "metadata": {},
     "output_type": "execute_result"
    }
   ],
   "source": [
    "df['submit_time'].str[-8:-6].value_counts()"
   ]
  },
  {
   "cell_type": "code",
   "execution_count": 167,
   "id": "21e5440e-607e-47a0-b602-8099ce2ec722",
   "metadata": {},
   "outputs": [
    {
     "data": {
      "text/plain": [
       "submission        44\n",
       "submit_time       44\n",
       "File_Extension    44\n",
       "Date              44\n",
       "Year              44\n",
       "dtype: int64"
      ]
     },
     "execution_count": 167,
     "metadata": {},
     "output_type": "execute_result"
    }
   ],
   "source": [
    "df[(df['Date'] > \"01/03/17\") & (df['Year'] != \"16\" )].count()"
   ]
  },
  {
   "cell_type": "code",
   "execution_count": null,
   "id": "ab5b10a8-a9f5-45c2-b9f8-b8daeec0a92d",
   "metadata": {},
   "outputs": [],
   "source": []
  }
 ],
 "metadata": {
  "kernelspec": {
   "display_name": "Python 3 (ipykernel)",
   "language": "python",
   "name": "python3"
  },
  "language_info": {
   "codemirror_mode": {
    "name": "ipython",
    "version": 3
   },
   "file_extension": ".py",
   "mimetype": "text/x-python",
   "name": "python",
   "nbconvert_exporter": "python",
   "pygments_lexer": "ipython3",
   "version": "3.12.7"
  }
 },
 "nbformat": 4,
 "nbformat_minor": 5
}
