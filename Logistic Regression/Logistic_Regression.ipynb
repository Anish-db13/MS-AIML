{
 "cells": [
  {
   "cell_type": "code",
   "execution_count": null,
   "id": "e607612b-7a75-4d21-b89b-5192c9a104ce",
   "metadata": {},
   "outputs": [],
   "source": []
  }
 ],
 "metadata": {
  "kernelspec": {
   "display_name": "",
   "name": ""
  },
  "language_info": {
   "name": ""
  }
 },
 "nbformat": 4,
 "nbformat_minor": 5
}
