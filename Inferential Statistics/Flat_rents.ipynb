{
 "cells": [
  {
   "cell_type": "code",
   "execution_count": 1,
   "id": "a661f2c7-2d07-49eb-8b8c-7f62ae57d969",
   "metadata": {},
   "outputs": [],
   "source": [
    "import pandas as pd, numpy as np"
   ]
  },
  {
   "cell_type": "code",
   "execution_count": 3,
   "id": "1ed78dd1-9a00-482b-aca1-711802d70902",
   "metadata": {},
   "outputs": [
    {
     "data": {
      "text/html": [
       "<div>\n",
       "<style scoped>\n",
       "    .dataframe tbody tr th:only-of-type {\n",
       "        vertical-align: middle;\n",
       "    }\n",
       "\n",
       "    .dataframe tbody tr th {\n",
       "        vertical-align: top;\n",
       "    }\n",
       "\n",
       "    .dataframe thead th {\n",
       "        text-align: right;\n",
       "    }\n",
       "</style>\n",
       "<table border=\"1\" class=\"dataframe\">\n",
       "  <thead>\n",
       "    <tr style=\"text-align: right;\">\n",
       "      <th></th>\n",
       "      <th>S. No.</th>\n",
       "      <th>Monthly Rent</th>\n",
       "    </tr>\n",
       "  </thead>\n",
       "  <tbody>\n",
       "    <tr>\n",
       "      <th>0</th>\n",
       "      <td>1</td>\n",
       "      <td>44000</td>\n",
       "    </tr>\n",
       "    <tr>\n",
       "      <th>1</th>\n",
       "      <td>2</td>\n",
       "      <td>49800</td>\n",
       "    </tr>\n",
       "    <tr>\n",
       "      <th>2</th>\n",
       "      <td>3</td>\n",
       "      <td>45400</td>\n",
       "    </tr>\n",
       "    <tr>\n",
       "      <th>3</th>\n",
       "      <td>4</td>\n",
       "      <td>40700</td>\n",
       "    </tr>\n",
       "    <tr>\n",
       "      <th>4</th>\n",
       "      <td>5</td>\n",
       "      <td>43900</td>\n",
       "    </tr>\n",
       "  </tbody>\n",
       "</table>\n",
       "</div>"
      ],
      "text/plain": [
       "   S. No.  Monthly Rent\n",
       "0       1         44000\n",
       "1       2         49800\n",
       "2       3         45400\n",
       "3       4         40700\n",
       "4       5         43900"
      ]
     },
     "execution_count": 3,
     "metadata": {},
     "output_type": "execute_result"
    }
   ],
   "source": [
    "df = pd.read_csv(\"Inferential Statistics - Powai Flats Rent.csv\")\n",
    "df.head()"
   ]
  },
  {
   "cell_type": "code",
   "execution_count": 5,
   "id": "ee9b19c6-c909-4c8e-936d-41e73c4824d7",
   "metadata": {},
   "outputs": [
    {
     "data": {
      "text/plain": [
       "(200, 2)"
      ]
     },
     "execution_count": 5,
     "metadata": {},
     "output_type": "execute_result"
    }
   ],
   "source": [
    "df.shape\n"
   ]
  },
  {
   "cell_type": "code",
   "execution_count": 7,
   "id": "23c8494d-a8b1-4b64-835a-f0bbdd1fa9ce",
   "metadata": {},
   "outputs": [],
   "source": [
    "mean_rent = df[\"Monthly Rent\"].mean()\n",
    "std_dev = df[\"Monthly Rent\"].std()\n",
    "n = len(df)"
   ]
  },
  {
   "cell_type": "code",
   "execution_count": 20,
   "id": "eeb54f34-6047-43c1-8a04-b9b04ec7aeda",
   "metadata": {},
   "outputs": [],
   "source": [
    "# Standard error\n",
    "std_error = std_dev / np.sqrt(n)\n",
    "\n",
    "# Critical Z-value for 90% confidence\n",
    "z = 1.65"
   ]
  },
  {
   "cell_type": "code",
   "execution_count": 22,
   "id": "40e5b23e-9119-4f35-a9f8-a050a93449c7",
   "metadata": {},
   "outputs": [
    {
     "data": {
      "text/plain": [
       "(44700.911395150506, 46441.088604849494)"
      ]
     },
     "execution_count": 22,
     "metadata": {},
     "output_type": "execute_result"
    }
   ],
   "source": [
    "# Confidence Interval\n",
    "lower_bound = mean_rent - z * std_error\n",
    "upper_bound = mean_rent + z * std_error\n",
    "\n",
    "(lower_bound, upper_bound)"
   ]
  },
  {
   "cell_type": "code",
   "execution_count": 24,
   "id": "29ba642a-822d-464a-88a9-f14a0253a4d3",
   "metadata": {},
   "outputs": [
    {
     "data": {
      "text/plain": [
       "(44210.49781787169, 46931.50218212831)"
      ]
     },
     "execution_count": 24,
     "metadata": {},
     "output_type": "execute_result"
    }
   ],
   "source": [
    "# Critical Z-value for 99% confidence\n",
    "z = 2.58\n",
    "\n",
    "# Confidence Interval\n",
    "lower_bound = mean_rent - z * std_error\n",
    "upper_bound = mean_rent + z * std_error\n",
    "\n",
    "(lower_bound, upper_bound)"
   ]
  },
  {
   "cell_type": "code",
   "execution_count": 26,
   "id": "38f458b7-30c3-4346-aabe-5ddf809c3187",
   "metadata": {},
   "outputs": [
    {
     "data": {
      "text/plain": [
       "(44537.44020272423, 46604.55979727577)"
      ]
     },
     "execution_count": 26,
     "metadata": {},
     "output_type": "execute_result"
    }
   ],
   "source": [
    "# Critical Z-value for 95% confidence\n",
    "z = 1.96\n",
    "\n",
    "# Confidence Interval\n",
    "lower_bound = mean_rent - z * std_error\n",
    "upper_bound = mean_rent + z * std_error\n",
    "\n",
    "(lower_bound, upper_bound)"
   ]
  },
  {
   "cell_type": "code",
   "execution_count": null,
   "id": "9a3d8edb-26ed-40a8-b031-f19f1a4c44c8",
   "metadata": {},
   "outputs": [],
   "source": []
  }
 ],
 "metadata": {
  "kernelspec": {
   "display_name": "Python 3 (ipykernel)",
   "language": "python",
   "name": "python3"
  },
  "language_info": {
   "codemirror_mode": {
    "name": "ipython",
    "version": 3
   },
   "file_extension": ".py",
   "mimetype": "text/x-python",
   "name": "python",
   "nbconvert_exporter": "python",
   "pygments_lexer": "ipython3",
   "version": "3.12.7"
  }
 },
 "nbformat": 4,
 "nbformat_minor": 5
}
