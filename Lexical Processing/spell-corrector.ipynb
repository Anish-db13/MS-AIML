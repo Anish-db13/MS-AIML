{
 "cells": [
  {
   "cell_type": "code",
   "execution_count": 1,
   "metadata": {},
   "outputs": [],
   "source": [
    "import re\n",
    "from collections import Counter"
   ]
  },
  {
   "cell_type": "code",
   "execution_count": 2,
   "metadata": {},
   "outputs": [],
   "source": [
    "# function to tokenise words\n",
    "def words(document):\n",
    "    \"Convert text to lower case and tokenise the document\"\n",
    "    return re.findall(r'\\w+', document.lower())"
   ]
  },
  {
   "cell_type": "code",
   "execution_count": 3,
   "metadata": {},
   "outputs": [],
   "source": [
    "# create a frequency table of all the words of the document\n",
    "all_words = Counter(words(open('big.txt').read()))"
   ]
  },
  {
   "cell_type": "code",
   "execution_count": 4,
   "metadata": {},
   "outputs": [
    {
     "data": {
      "text/plain": [
       "135"
      ]
     },
     "execution_count": 4,
     "metadata": {},
     "output_type": "execute_result"
    }
   ],
   "source": [
    "# check frequency of a random word, say, 'chair'\n",
    "all_words['chair']"
   ]
  },
  {
   "cell_type": "code",
   "execution_count": 5,
   "metadata": {},
   "outputs": [
    {
     "data": {
      "text/plain": [
       "[('the', 79809),\n",
       " ('of', 40024),\n",
       " ('and', 38312),\n",
       " ('to', 28765),\n",
       " ('in', 22023),\n",
       " ('a', 21124),\n",
       " ('that', 12512),\n",
       " ('he', 12401),\n",
       " ('was', 11410),\n",
       " ('it', 10681)]"
      ]
     },
     "execution_count": 5,
     "metadata": {},
     "output_type": "execute_result"
    }
   ],
   "source": [
    "# look at top 10 frequent words\n",
    "all_words.most_common(10)"
   ]
  },
  {
   "cell_type": "code",
   "execution_count": 6,
   "metadata": {},
   "outputs": [],
   "source": [
    "def edits_one(word):\n",
    "    \"Create all edits that are one edit away from `word`.\"\n",
    "    alphabets    = 'abcdefghijklmnopqrstuvwxyz'\n",
    "    splits     = [(word[:i], word[i:])                   for i in range(len(word) + 1)]\n",
    "    deletes    = [left + right[1:]                       for left, right in splits if right]\n",
    "    inserts    = [left + c + right                       for left, right in splits for c in alphabets]\n",
    "    replaces   = [left + c + right[1:]                   for left, right in splits if right for c in alphabets]\n",
    "    transposes = [left + right[1] + right[0] + right[2:] for left, right in splits if len(right)>1]\n",
    "    return set(deletes + inserts + replaces + transposes)"
   ]
  },
  {
   "cell_type": "code",
   "execution_count": 7,
   "metadata": {},
   "outputs": [],
   "source": [
    "def edits_two(word):\n",
    "    \"Create all edits that are two edits away from `word`.\"\n",
    "    return (e2 for e1 in edits_one(word) for e2 in edits_one(e1))"
   ]
  },
  {
   "cell_type": "code",
   "execution_count": 8,
   "metadata": {},
   "outputs": [],
   "source": [
    "def known(words):\n",
    "    \"The subset of `words` that appear in the `all_words`.\"\n",
    "    return set(word for word in words if word in all_words)"
   ]
  },
  {
   "cell_type": "code",
   "execution_count": 9,
   "metadata": {},
   "outputs": [],
   "source": [
    "def possible_corrections(word):\n",
    "    \"Generate possible spelling corrections for word.\"\n",
    "    return (known([word]) or known(edits_one(word)) or known(edits_two(word)) or [word])"
   ]
  },
  {
   "cell_type": "code",
   "execution_count": 10,
   "metadata": {},
   "outputs": [],
   "source": [
    "def prob(word, N=sum(all_words.values())): \n",
    "    \"Probability of `word`: Number of appearances of 'word' / total number of tokens\"\n",
    "    return all_words[word] / N"
   ]
  },
  {
   "cell_type": "code",
   "execution_count": 26,
   "metadata": {},
   "outputs": [
    {
     "name": "stdout",
     "output_type": "stream",
     "text": [
      "336\n",
      "{'monbney', 'mmonney', 'monnxey', 'mvnney', 'tonney', 'monneb', 'monneyb', 'modney', 'mronney', 'monne', 'monny', 'momnney', 'monpney', 'monneyq', 'monjey', 'mrnney', 'mkonney', 'emonney', 'monnery', 'vmonney', 'mnoney', 'monneyi', 'eonney', 'mpnney', 'monned', 'monnsey', 'monfney', 'monnezy', 'sonney', 'monnemy', 'mosnney', 'movney', 'monnqey', 'montney', 'bonney', 'kmonney', 'monley', 'monnsy', 'monneo', 'mlnney', 'monnee', 'monnuey', 'monnyey', 'monneyf', 'monnel', 'monnedy', 'moynney', 'monneyv', 'mnnney', 'minney', 'mnney', 'moniney', 'monzey', 'xonney', 'modnney', 'monnbey', 'moonney', 'cmonney', 'monneny', 'monneyp', 'moqney', 'monnei', 'monfey', 'fmonney', 'honney', 'gmonney', 'monnej', 'imonney', 'mongey', 'mocnney', 'smonney', 'monneyx', 'monneyw', 'mobney', 'mcnney', 'bmonney', 'mgonney', 'myonney', 'monoey', 'monsey', 'mmnney', 'monnmey', 'mozney', 'monniy', 'konney', 'monmey', 'monhney', 'lonney', 'monnty', 'mopney', 'donney', 'monnegy', 'monnney', 'mtonney', 'omonney', 'moknney', 'monxney', 'munney', 'moanney', 'monaney', 'mponney', 'monrey', 'monnhy', 'monnjey', 'monneq', 'monnfey', 'gonney', 'mopnney', 'monnxy', 'monnye', 'monneyz', 'fonney', 'mhnney', 'omnney', 'monnzey', 'monnley', 'jonney', 'monneyh', 'amonney', 'monniey', 'mhonney', 'monnvy', 'monnoey', 'monney', 'mxonney', 'qmonney', 'monnmy', 'monnex', 'morney', 'mknney', 'mbnney', 'monnaey', 'moncney', 'monneye', 'umonney', 'monneuy', 'montey', 'monneyc', 'mognney', 'monnet', 'monzney', 'ronney', 'monnrey', 'ymonney', 'moiney', 'monneg', 'tmonney', 'mobnney', 'monneyg', 'vonney', 'monkey', 'mjonney', 'mconney', 'momney', 'molney', 'conney', 'monneyy', 'monnep', 'monnesy', 'rmonney', 'monneby', 'mynney', 'mounney', 'oonney', 'monvney', 'monnhey', 'monnepy', 'manney', 'muonney', 'monnehy', 'monnevy', 'monntey', 'monnev', 'mionney', 'hmonney', 'monnkey', 'moxney', 'qonney', 'mornney', 'monnyy', 'monnly', 'mogney', 'mgnney', 'movnney', 'monnen', 'monyney', 'monneyk', 'wonney', 'mqnney', 'monnny', 'mohnney', 'monnky', 'monnwy', 'mnonney', 'mfnney', 'monqney', 'moxnney', 'monnoy', 'mwnney', 'mlonney', 'monnef', 'monndey', 'monnuy', 'monaey', 'mondney', 'wmonney', 'monndy', 'xmonney', 'mdonney', 'monnby', 'uonney', 'monneyl', 'monmney', 'nonney', 'monnely', 'monsney', 'mtnney', 'mbonney', 'monnek', 'moinney', 'mohney', 'motnney', 'monnzy', 'monuey', 'monneyt', 'mjnney', 'meonney', 'monwey', 'monneym', 'mwonney', 'monnry', 'monxey', 'moyney', 'monngy', 'pmonney', 'monwney', 'monhey', 'moniey', 'monnay', 'mowney', 'monneh', 'mdnney', 'monncy', 'zonney', 'monpey', 'monneyo', 'zmonney', 'moznney', 'mocney', 'monneky', 'mofnney', 'monnewy', 'mongney', 'yonney', 'lmonney', 'mofney', 'menney', 'monneqy', 'moenney', 'monrney', 'monneyj', 'mxnney', 'monnez', 'monnqy', 'monbey', 'monneyu', 'monuney', 'dmonney', 'mooney', 'monneyr', 'monneya', 'mondey', 'mzonney', 'mokney', 'mouney', 'monjney', 'monkney', 'monneoy', 'money', 'monnefy', 'monneys', 'jmonney', 'monnjy', 'moaney', 'mojnney', 'monnpey', 'monnvey', 'motney', 'msonney', 'moeney', 'monneiy', 'monneyn', 'moneny', 'mownney', 'mfonney', 'moncey', 'molnney', 'moneney', 'monneay', 'mqonney', 'msnney', 'mosney', 'monnecy', 'moneey', 'aonney', 'mvonney', 'monnpy', 'monvey', 'monlney', 'moqnney', 'monqey', 'ponney', 'monngey', 'mznney', 'ionney', 'monnejy', 'onney', 'monnes', 'monnew', 'monnec', 'mojney', 'maonney', 'monnem', 'monncey', 'monnfy', 'monnexy', 'monneu', 'monnety', 'monneyd', 'monnwey', 'monnea', 'nmonney', 'monneey', 'monyey', 'mononey', 'monner'}\n"
     ]
    }
   ],
   "source": [
    "print(len(set(edits_one(\"monney\"))))\n",
    "print(edits_one(\"monney\"))"
   ]
  },
  {
   "cell_type": "code",
   "execution_count": 28,
   "metadata": {},
   "outputs": [
    {
     "name": "stdout",
     "output_type": "stream",
     "text": [
      "{'monkey', 'money'}\n"
     ]
    }
   ],
   "source": [
    "print(known(edits_one(\"monney\")))"
   ]
  },
  {
   "cell_type": "code",
   "execution_count": 29,
   "metadata": {},
   "outputs": [
    {
     "name": "stdout",
     "output_type": "stream",
     "text": [
      "51013\n",
      "{'monkey', 'money'}\n"
     ]
    }
   ],
   "source": [
    "# Let's look at words that are two edits away\n",
    "print(len(set(edits_two(\"monney\"))))\n",
    "print(known(edits_one(\"monney\")))"
   ]
  },
  {
   "cell_type": "code",
   "execution_count": 30,
   "metadata": {},
   "outputs": [
    {
     "name": "stdout",
     "output_type": "stream",
     "text": [
      "{'monkey', 'money'}\n"
     ]
    }
   ],
   "source": [
    "# Let's look at possible corrections of a word\n",
    "print(possible_corrections(\"monney\"))"
   ]
  },
  {
   "cell_type": "code",
   "execution_count": 31,
   "metadata": {},
   "outputs": [
    {
     "name": "stdout",
     "output_type": "stream",
     "text": [
      "0.0002922233626303688\n",
      "5.378344097491451e-06\n"
     ]
    }
   ],
   "source": [
    "# Let's look at probability of a word\n",
    "print(prob(\"money\"))\n",
    "print(prob(\"monkey\"))"
   ]
  },
  {
   "cell_type": "code",
   "execution_count": 34,
   "metadata": {},
   "outputs": [],
   "source": [
    "def spell_check(word):\n",
    "    \"Print the most probable spelling correction for `word` out of all the `possible_corrections`\"\n",
    "    correct_word = max(possible_corrections(word), key=prob)\n",
    "    if correct_word != word:\n",
    "        return \"Did you mean \" + correct_word + \"?\"\n",
    "    else:\n",
    "        return \"Correct spelling.\""
   ]
  },
  {
   "cell_type": "code",
   "execution_count": 35,
   "metadata": {},
   "outputs": [
    {
     "name": "stdout",
     "output_type": "stream",
     "text": [
      "Did you mean money?\n"
     ]
    }
   ],
   "source": [
    "# test spell check\n",
    "print(spell_check(\"monney\"))"
   ]
  },
  {
   "cell_type": "code",
   "execution_count": null,
   "metadata": {},
   "outputs": [],
   "source": []
  }
 ],
 "metadata": {
  "kernelspec": {
   "display_name": "Python (tf-env)",
   "language": "python",
   "name": "tf-env"
  },
  "language_info": {
   "codemirror_mode": {
    "name": "ipython",
    "version": 3
   },
   "file_extension": ".py",
   "mimetype": "text/x-python",
   "name": "python",
   "nbconvert_exporter": "python",
   "pygments_lexer": "ipython3",
   "version": "3.10.0"
  }
 },
 "nbformat": 4,
 "nbformat_minor": 4
}
