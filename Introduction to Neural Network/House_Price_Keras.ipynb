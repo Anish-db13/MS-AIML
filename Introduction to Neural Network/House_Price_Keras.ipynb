{
 "cells": [
  {
   "cell_type": "code",
   "execution_count": 1,
   "id": "bbcde453-fbc3-4b80-a663-01212599fa9c",
   "metadata": {
    "id": "bbcde453-fbc3-4b80-a663-01212599fa9c"
   },
   "outputs": [],
   "source": [
    "import pandas as pd\n",
    "import numpy as np\n",
    "import sklearn\n",
    "import tensorflow as tf\n",
    "from tensorflow import keras\n",
    "from sklearn.preprocessing import StandardScaler\n",
    "from sklearn.metrics import accuracy_score"
   ]
  },
  {
   "cell_type": "code",
   "execution_count": 2,
   "id": "W-nUIQ8_LowE",
   "metadata": {
    "id": "W-nUIQ8_LowE"
   },
   "outputs": [],
   "source": [
    "# In case of errors, check if you are using the correct versions of the libraries. This notebook works on the following versions of libraries. Specify these versions if you get version related errors.\n",
    "# TensorFlow version: 2.17.0\n",
    "# Pandas version: 2.1.4\n",
    "# NumPy version: 1.26.4\n",
    "# Scikit-learn version: 1.5.2\n",
    "# Keras version: 3.4.1\n",
    "\n",
    "# print(\"TensorFlow version:\", tf.__version__)\n",
    "# print(\"Pandas version:\", pd.__version__)\n",
    "# print(\"NumPy version:\", np.__version__)\n",
    "# print(\"Scikit-learn version:\", sklearn.__version__)\n",
    "# print(\"Keras version:\", tf.keras.__version__)"
   ]
  },
  {
   "cell_type": "markdown",
   "id": "173476da-ac46-435c-81bb-858825c1908d",
   "metadata": {
    "id": "173476da-ac46-435c-81bb-858825c1908d"
   },
   "source": [
    "## Part 1: Import the Housing data and do feature transformations"
   ]
  },
  {
   "cell_type": "code",
   "execution_count": 4,
   "id": "999b20bb-ff06-47ce-9824-3431ade3d628",
   "metadata": {
    "colab": {
     "base_uri": "https://localhost:8080/",
     "height": 206
    },
    "id": "999b20bb-ff06-47ce-9824-3431ade3d628",
    "outputId": "c7ed0b52-c0c0-44e2-8ff1-ef1df91d8188"
   },
   "outputs": [
    {
     "data": {
      "text/html": [
       "<div>\n",
       "<style scoped>\n",
       "    .dataframe tbody tr th:only-of-type {\n",
       "        vertical-align: middle;\n",
       "    }\n",
       "\n",
       "    .dataframe tbody tr th {\n",
       "        vertical-align: top;\n",
       "    }\n",
       "\n",
       "    .dataframe thead th {\n",
       "        text-align: right;\n",
       "    }\n",
       "</style>\n",
       "<table border=\"1\" class=\"dataframe\">\n",
       "  <thead>\n",
       "    <tr style=\"text-align: right;\">\n",
       "      <th></th>\n",
       "      <th>bedrooms</th>\n",
       "      <th>sqft_living</th>\n",
       "      <th>price</th>\n",
       "    </tr>\n",
       "  </thead>\n",
       "  <tbody>\n",
       "    <tr>\n",
       "      <th>0</th>\n",
       "      <td>3</td>\n",
       "      <td>1340</td>\n",
       "      <td>313000</td>\n",
       "    </tr>\n",
       "    <tr>\n",
       "      <th>1</th>\n",
       "      <td>5</td>\n",
       "      <td>3650</td>\n",
       "      <td>2384000</td>\n",
       "    </tr>\n",
       "    <tr>\n",
       "      <th>2</th>\n",
       "      <td>3</td>\n",
       "      <td>1930</td>\n",
       "      <td>342000</td>\n",
       "    </tr>\n",
       "    <tr>\n",
       "      <th>3</th>\n",
       "      <td>3</td>\n",
       "      <td>2000</td>\n",
       "      <td>420000</td>\n",
       "    </tr>\n",
       "    <tr>\n",
       "      <th>4</th>\n",
       "      <td>4</td>\n",
       "      <td>1940</td>\n",
       "      <td>550000</td>\n",
       "    </tr>\n",
       "  </tbody>\n",
       "</table>\n",
       "</div>"
      ],
      "text/plain": [
       "   bedrooms  sqft_living    price\n",
       "0         3         1340   313000\n",
       "1         5         3650  2384000\n",
       "2         3         1930   342000\n",
       "3         3         2000   420000\n",
       "4         4         1940   550000"
      ]
     },
     "execution_count": 4,
     "metadata": {},
     "output_type": "execute_result"
    }
   ],
   "source": [
    "df= pd.read_csv('house_price_full.csv')\n",
    "df.head()"
   ]
  },
  {
   "cell_type": "code",
   "execution_count": 5,
   "id": "9ac1d055-4622-4fc9-a2a3-d463bcf8befd",
   "metadata": {
    "id": "9ac1d055-4622-4fc9-a2a3-d463bcf8befd"
   },
   "outputs": [],
   "source": [
    "X = df.copy()\n",
    "# Remove target\n",
    "Y = X.pop('price')\n",
    "\n",
    "# perform a scaler transform of the input data\n",
    "scaler = StandardScaler()\n",
    "X = scaler.fit_transform(X)\n",
    "\n",
    "# perform log transformation of target variable (For Sandeep: Is this needed?)\n",
    "Y = np.log(Y)"
   ]
  },
  {
   "cell_type": "code",
   "execution_count": 6,
   "id": "82b4c4a9-00c6-42d5-aede-b01c0faeb61a",
   "metadata": {
    "colab": {
     "base_uri": "https://localhost:8080/",
     "height": 423
    },
    "id": "82b4c4a9-00c6-42d5-aede-b01c0faeb61a",
    "outputId": "361d9eea-cf79-448d-a9b5-7a7b5985ef9d"
   },
   "outputs": [
    {
     "data": {
      "text/html": [
       "<div>\n",
       "<style scoped>\n",
       "    .dataframe tbody tr th:only-of-type {\n",
       "        vertical-align: middle;\n",
       "    }\n",
       "\n",
       "    .dataframe tbody tr th {\n",
       "        vertical-align: top;\n",
       "    }\n",
       "\n",
       "    .dataframe thead th {\n",
       "        text-align: right;\n",
       "    }\n",
       "</style>\n",
       "<table border=\"1\" class=\"dataframe\">\n",
       "  <thead>\n",
       "    <tr style=\"text-align: right;\">\n",
       "      <th></th>\n",
       "      <th>0</th>\n",
       "      <th>1</th>\n",
       "    </tr>\n",
       "  </thead>\n",
       "  <tbody>\n",
       "    <tr>\n",
       "      <th>0</th>\n",
       "      <td>-0.433198</td>\n",
       "      <td>-0.753258</td>\n",
       "    </tr>\n",
       "    <tr>\n",
       "      <th>1</th>\n",
       "      <td>1.675735</td>\n",
       "      <td>1.457330</td>\n",
       "    </tr>\n",
       "    <tr>\n",
       "      <th>2</th>\n",
       "      <td>-0.433198</td>\n",
       "      <td>-0.188649</td>\n",
       "    </tr>\n",
       "    <tr>\n",
       "      <th>3</th>\n",
       "      <td>-0.433198</td>\n",
       "      <td>-0.121661</td>\n",
       "    </tr>\n",
       "    <tr>\n",
       "      <th>4</th>\n",
       "      <td>0.621269</td>\n",
       "      <td>-0.179079</td>\n",
       "    </tr>\n",
       "    <tr>\n",
       "      <th>...</th>\n",
       "      <td>...</td>\n",
       "      <td>...</td>\n",
       "    </tr>\n",
       "    <tr>\n",
       "      <th>494</th>\n",
       "      <td>0.621269</td>\n",
       "      <td>0.873582</td>\n",
       "    </tr>\n",
       "    <tr>\n",
       "      <th>495</th>\n",
       "      <td>1.675735</td>\n",
       "      <td>2.299459</td>\n",
       "    </tr>\n",
       "    <tr>\n",
       "      <th>496</th>\n",
       "      <td>-0.433198</td>\n",
       "      <td>-0.724549</td>\n",
       "    </tr>\n",
       "    <tr>\n",
       "      <th>497</th>\n",
       "      <td>-0.433198</td>\n",
       "      <td>-0.179079</td>\n",
       "    </tr>\n",
       "    <tr>\n",
       "      <th>498</th>\n",
       "      <td>-0.433198</td>\n",
       "      <td>-1.040347</td>\n",
       "    </tr>\n",
       "  </tbody>\n",
       "</table>\n",
       "<p>499 rows × 2 columns</p>\n",
       "</div>"
      ],
      "text/plain": [
       "            0         1\n",
       "0   -0.433198 -0.753258\n",
       "1    1.675735  1.457330\n",
       "2   -0.433198 -0.188649\n",
       "3   -0.433198 -0.121661\n",
       "4    0.621269 -0.179079\n",
       "..        ...       ...\n",
       "494  0.621269  0.873582\n",
       "495  1.675735  2.299459\n",
       "496 -0.433198 -0.724549\n",
       "497 -0.433198 -0.179079\n",
       "498 -0.433198 -1.040347\n",
       "\n",
       "[499 rows x 2 columns]"
      ]
     },
     "execution_count": 6,
     "metadata": {},
     "output_type": "execute_result"
    }
   ],
   "source": [
    "df_scaled = pd.DataFrame(X)\n",
    "df_scaled"
   ]
  },
  {
   "cell_type": "code",
   "execution_count": 7,
   "id": "8034fbca-2081-4de3-9fd3-8e5d379b2cbf",
   "metadata": {
    "colab": {
     "base_uri": "https://localhost:8080/",
     "height": 458
    },
    "id": "8034fbca-2081-4de3-9fd3-8e5d379b2cbf",
    "outputId": "e259a705-587c-4fcd-ae07-dc96f9dac121"
   },
   "outputs": [
    {
     "data": {
      "text/plain": [
       "0      12.653958\n",
       "1      14.684290\n",
       "2      12.742566\n",
       "3      12.948010\n",
       "4      13.217674\n",
       "         ...    \n",
       "494    13.380102\n",
       "495    13.764217\n",
       "496    12.128111\n",
       "497    12.721886\n",
       "498    12.254863\n",
       "Name: price, Length: 499, dtype: float64"
      ]
     },
     "execution_count": 7,
     "metadata": {},
     "output_type": "execute_result"
    }
   ],
   "source": [
    "Y"
   ]
  },
  {
   "cell_type": "markdown",
   "id": "754adc57-4f6c-4b96-a348-77bd82a4b304",
   "metadata": {
    "id": "754adc57-4f6c-4b96-a348-77bd82a4b304"
   },
   "source": [
    "## Part 2: Create Model Using `keras`\n",
    "\n",
    "![](multiple_neurons.png)"
   ]
  },
  {
   "cell_type": "code",
   "execution_count": 8,
   "id": "9e7e3de3-c446-4fbe-be67-08c1431450d5",
   "metadata": {
    "id": "9e7e3de3-c446-4fbe-be67-08c1431450d5"
   },
   "outputs": [],
   "source": [
    "from tensorflow import keras"
   ]
  },
  {
   "cell_type": "code",
   "execution_count": 9,
   "id": "7bf2231d-a13c-4e82-aae9-597b3caae6c0",
   "metadata": {
    "colab": {
     "base_uri": "https://localhost:8080/",
     "height": 193
    },
    "id": "7bf2231d-a13c-4e82-aae9-597b3caae6c0",
    "outputId": "08c4fa72-0550-4c89-9c98-b8cd8e4590b5"
   },
   "outputs": [
    {
     "data": {
      "text/html": [
       "<pre style=\"white-space:pre;overflow-x:auto;line-height:normal;font-family:Menlo,'DejaVu Sans Mono',consolas,'Courier New',monospace\"><span style=\"font-weight: bold\">Model: \"sequential\"</span>\n",
       "</pre>\n"
      ],
      "text/plain": [
       "\u001b[1mModel: \"sequential\"\u001b[0m\n"
      ]
     },
     "metadata": {},
     "output_type": "display_data"
    },
    {
     "data": {
      "text/html": [
       "<pre style=\"white-space:pre;overflow-x:auto;line-height:normal;font-family:Menlo,'DejaVu Sans Mono',consolas,'Courier New',monospace\">┏━━━━━━━━━━━━━━━━━━━━━━━━━━━━━━━━━━━━━━┳━━━━━━━━━━━━━━━━━━━━━━━━━━━━━┳━━━━━━━━━━━━━━━━━┓\n",
       "┃<span style=\"font-weight: bold\"> Layer (type)                         </span>┃<span style=\"font-weight: bold\"> Output Shape                </span>┃<span style=\"font-weight: bold\">         Param # </span>┃\n",
       "┡━━━━━━━━━━━━━━━━━━━━━━━━━━━━━━━━━━━━━━╇━━━━━━━━━━━━━━━━━━━━━━━━━━━━━╇━━━━━━━━━━━━━━━━━┩\n",
       "│ dense (<span style=\"color: #0087ff; text-decoration-color: #0087ff\">Dense</span>)                        │ (<span style=\"color: #00d7ff; text-decoration-color: #00d7ff\">None</span>, <span style=\"color: #00af00; text-decoration-color: #00af00\">2</span>)                   │               <span style=\"color: #00af00; text-decoration-color: #00af00\">6</span> │\n",
       "├──────────────────────────────────────┼─────────────────────────────┼─────────────────┤\n",
       "│ dense_1 (<span style=\"color: #0087ff; text-decoration-color: #0087ff\">Dense</span>)                      │ (<span style=\"color: #00d7ff; text-decoration-color: #00d7ff\">None</span>, <span style=\"color: #00af00; text-decoration-color: #00af00\">1</span>)                   │               <span style=\"color: #00af00; text-decoration-color: #00af00\">3</span> │\n",
       "└──────────────────────────────────────┴─────────────────────────────┴─────────────────┘\n",
       "</pre>\n"
      ],
      "text/plain": [
       "┏━━━━━━━━━━━━━━━━━━━━━━━━━━━━━━━━━━━━━━┳━━━━━━━━━━━━━━━━━━━━━━━━━━━━━┳━━━━━━━━━━━━━━━━━┓\n",
       "┃\u001b[1m \u001b[0m\u001b[1mLayer (type)                        \u001b[0m\u001b[1m \u001b[0m┃\u001b[1m \u001b[0m\u001b[1mOutput Shape               \u001b[0m\u001b[1m \u001b[0m┃\u001b[1m \u001b[0m\u001b[1m        Param #\u001b[0m\u001b[1m \u001b[0m┃\n",
       "┡━━━━━━━━━━━━━━━━━━━━━━━━━━━━━━━━━━━━━━╇━━━━━━━━━━━━━━━━━━━━━━━━━━━━━╇━━━━━━━━━━━━━━━━━┩\n",
       "│ dense (\u001b[38;5;33mDense\u001b[0m)                        │ (\u001b[38;5;45mNone\u001b[0m, \u001b[38;5;34m2\u001b[0m)                   │               \u001b[38;5;34m6\u001b[0m │\n",
       "├──────────────────────────────────────┼─────────────────────────────┼─────────────────┤\n",
       "│ dense_1 (\u001b[38;5;33mDense\u001b[0m)                      │ (\u001b[38;5;45mNone\u001b[0m, \u001b[38;5;34m1\u001b[0m)                   │               \u001b[38;5;34m3\u001b[0m │\n",
       "└──────────────────────────────────────┴─────────────────────────────┴─────────────────┘\n"
      ]
     },
     "metadata": {},
     "output_type": "display_data"
    },
    {
     "data": {
      "text/html": [
       "<pre style=\"white-space:pre;overflow-x:auto;line-height:normal;font-family:Menlo,'DejaVu Sans Mono',consolas,'Courier New',monospace\"><span style=\"font-weight: bold\"> Total params: </span><span style=\"color: #00af00; text-decoration-color: #00af00\">9</span> (36.00 B)\n",
       "</pre>\n"
      ],
      "text/plain": [
       "\u001b[1m Total params: \u001b[0m\u001b[38;5;34m9\u001b[0m (36.00 B)\n"
      ]
     },
     "metadata": {},
     "output_type": "display_data"
    },
    {
     "data": {
      "text/html": [
       "<pre style=\"white-space:pre;overflow-x:auto;line-height:normal;font-family:Menlo,'DejaVu Sans Mono',consolas,'Courier New',monospace\"><span style=\"font-weight: bold\"> Trainable params: </span><span style=\"color: #00af00; text-decoration-color: #00af00\">9</span> (36.00 B)\n",
       "</pre>\n"
      ],
      "text/plain": [
       "\u001b[1m Trainable params: \u001b[0m\u001b[38;5;34m9\u001b[0m (36.00 B)\n"
      ]
     },
     "metadata": {},
     "output_type": "display_data"
    },
    {
     "data": {
      "text/html": [
       "<pre style=\"white-space:pre;overflow-x:auto;line-height:normal;font-family:Menlo,'DejaVu Sans Mono',consolas,'Courier New',monospace\"><span style=\"font-weight: bold\"> Non-trainable params: </span><span style=\"color: #00af00; text-decoration-color: #00af00\">0</span> (0.00 B)\n",
       "</pre>\n"
      ],
      "text/plain": [
       "\u001b[1m Non-trainable params: \u001b[0m\u001b[38;5;34m0\u001b[0m (0.00 B)\n"
      ]
     },
     "metadata": {},
     "output_type": "display_data"
    }
   ],
   "source": [
    "# model = keras.Sequential(\n",
    "#     [\n",
    "#         keras.layers.Dense(\n",
    "#             2, activation=\"sigmoid\", input_shape=(X.shape[-1],)\n",
    "#         ),\n",
    "#         keras.layers.Dense(1, activation=\"linear\")\n",
    "#     ]\n",
    "# )\n",
    "# model.summary()\n",
    "\n",
    "# Newer versions of Keras support this:\n",
    "model = keras.Sequential()\n",
    "model.add(keras.layers.Input(shape=(X.shape[-1],)))\n",
    "model.add(keras.layers.Dense(2, activation=\"sigmoid\"))\n",
    "model.add(keras.layers.Dense(1, activation=\"linear\"))\n",
    "model.summary()"
   ]
  },
  {
   "cell_type": "markdown",
   "id": "304a97ac-488e-44cf-b86b-b6f44dc81d72",
   "metadata": {
    "id": "304a97ac-488e-44cf-b86b-b6f44dc81d72"
   },
   "source": [
    "```python\n",
    "def random_init_params():\n",
    "    w1 = tf.Variable(tf.random.uniform((2, 2)))\n",
    "    b1 = tf.Variable(tf.random.uniform((1, 2)))\n",
    "    w2 = tf.Variable(tf.random.uniform((2, 1)))\n",
    "    b2 = tf.Variable(tf.random.uniform((1, 1)))\n",
    "    return w1,b1,w2,b2\n",
    "\n",
    "\n",
    "def forward_prop(x, w1, b1, w2, b2):\n",
    "    z1 = tf.matmul(x,w1) + b1\n",
    "    h1 = tf.math.sigmoid(z1)\n",
    "    z2 = tf.matmul(h1,w2) + b2\n",
    "    h2 = z2\n",
    "    return h2\n",
    "```"
   ]
  },
  {
   "cell_type": "code",
   "execution_count": 10,
   "id": "867ac40d-01c2-4f93-8977-1a3a1b37b320",
   "metadata": {
    "id": "867ac40d-01c2-4f93-8977-1a3a1b37b320"
   },
   "outputs": [],
   "source": [
    "model.compile(\n",
    "    optimizer=keras.optimizers.SGD(), loss=\"mean_squared_error\"\n",
    ")"
   ]
  },
  {
   "cell_type": "markdown",
   "id": "78a51db7-4b84-4338-9745-ece25b503892",
   "metadata": {
    "id": "78a51db7-4b84-4338-9745-ece25b503892"
   },
   "source": [
    "```python\n",
    "def train(x, y, w1, b1, w2, b2):\n",
    "    y_true = y\n",
    "    with tf.GradientTape() as g:\n",
    "        y_pred = forward_prop(x, w1, b1, w2, b2)\n",
    "\n",
    "        # loss\n",
    "        loss = 0.5*(y_true - y_pred)** 2\n",
    "    \n",
    "    #Gradient calculation  \n",
    "    print(\"**************************************************\")\n",
    "    print(\"GRADIENTS\")\n",
    "    print(\"**************************************************\")\n",
    "    gw1, gb1, gw2, gb2 = g.gradient(loss, [w1, b1, w2, b2])\n",
    "    print(\" the gradient for 1st layer weights are:\\n\",gw1.numpy())\n",
    "    print(\"--------------------------------------------------\")\n",
    "    print(\" the gradient for 2nd layer weights are:\\n\",gw2.numpy())\n",
    "    print(\"--------------------------------------------------\")\n",
    "    print(\" the gradient for 1st layer bias are:\\n\",gb1.numpy())\n",
    "    print(\"--------------------------------------------------\")\n",
    "    print(\" the gradient for 2nd layer bias are:\\n\",gb2.numpy())\n",
    "    print(\"--------------------------------------------------\")\n",
    "\n",
    "    # Gradient descent:\n",
    "    lr=0.2\n",
    "    w1.assign_sub(lr*gw1)\n",
    "    b1.assign_sub(lr*gb1)\n",
    "    w2.assign_sub(lr*gw2)\n",
    "    b2.assign_sub(lr*gb2)\n",
    "    print(\"**************************************************\")\n",
    "    print(\"NEW UPDATES\")\n",
    "    print(\"**************************************************\")\n",
    "    print(\" the updated 1st layer weights are:\\n\",w1.numpy())\n",
    "    print(\"--------------------------------------------------\")\n",
    "    print(\" the updated 2nd layer weights are:\\n\",w2.numpy())\n",
    "    print(\"--------------------------------------------------\")\n",
    "    print(\" the updated 1st layer bias are:\\n\",b1.numpy())\n",
    "    print(\"--------------------------------------------------\")\n",
    "    print(\" the updated 2nd layer bias are:\\n\",b2.numpy())\n",
    "\n",
    "\n",
    "    return w1, b1, w2, b2,loss\n",
    "\n",
    "```"
   ]
  },
  {
   "cell_type": "code",
   "execution_count": 11,
   "id": "72ab0367-85da-46b9-bce9-4da2c72dfaa7",
   "metadata": {
    "colab": {
     "base_uri": "https://localhost:8080/"
    },
    "id": "72ab0367-85da-46b9-bce9-4da2c72dfaa7",
    "outputId": "20427cc4-a3d2-48fe-9e5e-aba8546b2cb9"
   },
   "outputs": [
    {
     "name": "stdout",
     "output_type": "stream",
     "text": [
      "Epoch 1/10\n",
      "\u001b[1m16/16\u001b[0m \u001b[32m━━━━━━━━━━━━━━━━━━━━\u001b[0m\u001b[37m\u001b[0m \u001b[1m0s\u001b[0m 3ms/step - loss: 152.1590  \n",
      "Epoch 2/10\n",
      "\u001b[1m16/16\u001b[0m \u001b[32m━━━━━━━━━━━━━━━━━━━━\u001b[0m\u001b[37m\u001b[0m \u001b[1m0s\u001b[0m 3ms/step - loss: 55.8513 \n",
      "Epoch 3/10\n",
      "\u001b[1m16/16\u001b[0m \u001b[32m━━━━━━━━━━━━━━━━━━━━\u001b[0m\u001b[37m\u001b[0m \u001b[1m0s\u001b[0m 3ms/step - loss: 15.4556 \n",
      "Epoch 4/10\n",
      "\u001b[1m16/16\u001b[0m \u001b[32m━━━━━━━━━━━━━━━━━━━━\u001b[0m\u001b[37m\u001b[0m \u001b[1m0s\u001b[0m 3ms/step - loss: 3.3308 \n",
      "Epoch 5/10\n",
      "\u001b[1m16/16\u001b[0m \u001b[32m━━━━━━━━━━━━━━━━━━━━\u001b[0m\u001b[37m\u001b[0m \u001b[1m0s\u001b[0m 3ms/step - loss: 1.0098 \n",
      "Epoch 6/10\n",
      "\u001b[1m16/16\u001b[0m \u001b[32m━━━━━━━━━━━━━━━━━━━━\u001b[0m\u001b[37m\u001b[0m \u001b[1m0s\u001b[0m 3ms/step - loss: 0.5212 \n",
      "Epoch 7/10\n",
      "\u001b[1m16/16\u001b[0m \u001b[32m━━━━━━━━━━━━━━━━━━━━\u001b[0m\u001b[37m\u001b[0m \u001b[1m0s\u001b[0m 3ms/step - loss: 0.3600 \n",
      "Epoch 8/10\n",
      "\u001b[1m16/16\u001b[0m \u001b[32m━━━━━━━━━━━━━━━━━━━━\u001b[0m\u001b[37m\u001b[0m \u001b[1m0s\u001b[0m 4ms/step - loss: 0.2722 \n",
      "Epoch 9/10\n",
      "\u001b[1m16/16\u001b[0m \u001b[32m━━━━━━━━━━━━━━━━━━━━\u001b[0m\u001b[37m\u001b[0m \u001b[1m0s\u001b[0m 3ms/step - loss: 0.2686 \n",
      "Epoch 10/10\n",
      "\u001b[1m16/16\u001b[0m \u001b[32m━━━━━━━━━━━━━━━━━━━━\u001b[0m\u001b[37m\u001b[0m \u001b[1m0s\u001b[0m 3ms/step - loss: 0.2408 \n"
     ]
    },
    {
     "data": {
      "text/plain": [
       "<keras.src.callbacks.history.History at 0x1bbd9c23a90>"
      ]
     },
     "execution_count": 11,
     "metadata": {},
     "output_type": "execute_result"
    }
   ],
   "source": [
    "model.fit(X,Y.values,epochs=10,batch_size=32)"
   ]
  },
  {
   "cell_type": "code",
   "execution_count": 12,
   "id": "ac6189a0-f5a7-48e3-9bbd-03f219c6ab2c",
   "metadata": {
    "colab": {
     "base_uri": "https://localhost:8080/"
    },
    "id": "ac6189a0-f5a7-48e3-9bbd-03f219c6ab2c",
    "outputId": "26d469e4-e1fd-483f-fb14-7fc77408b745"
   },
   "outputs": [
    {
     "name": "stdout",
     "output_type": "stream",
     "text": [
      "\u001b[1m16/16\u001b[0m \u001b[32m━━━━━━━━━━━━━━━━━━━━\u001b[0m\u001b[37m\u001b[0m \u001b[1m0s\u001b[0m 4ms/step \n"
     ]
    },
    {
     "data": {
      "text/plain": [
       "array([13.012343 , 13.410376 , 13.035484 , 13.038134 , 13.327786 ,\n",
       "       12.505089 , 12.533078 , 13.334146 , 13.05396  , 13.323262 ,\n",
       "       13.027023 , 13.335448 , 13.050349 , 13.002108 , 13.423672 ,\n",
       "       13.006643 , 13.021535 , 13.33647  , 13.013555 , 13.005821 ,\n",
       "       13.047064 , 13.322435 , 13.028577 , 13.334277 , 13.324182 ,\n",
       "       13.041512 , 13.051436 , 13.330213 , 13.42517  , 13.06     ,\n",
       "       13.323725 , 13.335094 , 13.3265705, 13.33485  , 13.338503 ,\n",
       "       13.081629 , 12.500292 , 13.032432 , 13.036623 , 13.052521 ,\n",
       "       13.02193  , 13.322792 , 12.503291 , 13.029351 , 12.524778 ,\n",
       "       13.004999 , 13.037001 , 13.035484 , 13.009503 , 13.337383 ,\n",
       "       13.334146 , 13.070697 , 13.063843 , 13.03051  , 13.434633 ,\n",
       "       13.327588 , 13.330125 , 13.410185 , 13.011534 , 12.549579 ,\n",
       "       13.337383 , 13.0628   , 13.334277 , 13.057882 , 13.335448 ,\n",
       "       12.506287 , 13.024681 , 12.998779 , 12.610111 , 13.045591 ,\n",
       "       13.332882 , 13.068659 , 13.330902 , 13.034343 , 13.011938 ,\n",
       "       12.528339 , 13.329947 , 13.334277 , 13.329496 , 13.056106 ,\n",
       "       13.328276 , 13.338667 , 12.602173 , 13.03051  , 13.331401 ,\n",
       "       12.577528 , 12.520617 , 13.017964 , 12.536625 , 12.524183 ,\n",
       "       13.419022 , 13.044114 , 13.388258 , 13.051075 , 13.02114  ,\n",
       "       13.426479 , 13.025854 , 13.420597 , 13.015163 , 13.403288 ,\n",
       "       13.336808 , 13.038511 , 13.011938 , 13.331644 , 13.439777 ,\n",
       "       13.335391 , 13.329035 , 13.3394985, 12.502691 , 13.319828 ,\n",
       "       13.32171  , 13.331153 , 13.000447 , 13.429507 , 13.328468 ,\n",
       "       13.448475 , 13.046696 , 12.500892 , 13.418844 , 13.025464 ,\n",
       "       13.328081 , 13.016767 , 12.739695 , 13.033579 , 13.033579 ,\n",
       "       13.015163 , 13.322792 , 12.520617 , 13.035105 , 13.335391 ,\n",
       "       13.081629 , 13.020744 , 13.4369135, 12.58387  , 12.5577755,\n",
       "       13.33107  , 13.03051  , 13.328468 , 13.030124 , 13.332199 ,\n",
       "       13.035864 , 12.521806 , 13.337741 , 13.339484 , 13.021574 ,\n",
       "       13.023504 , 13.015083 , 13.07506  , 13.393217 , 12.54723  ,\n",
       "       13.332276 , 13.322315 , 12.518234 , 13.012747 , 13.329768 ,\n",
       "       13.018362 , 13.038134 , 12.51406  , 12.495483 , 13.437331 ,\n",
       "       13.02193  , 13.329405 , 13.320592 , 13.023897 , 13.3376255,\n",
       "       13.327287 , 13.323262 , 12.506287 , 13.000447 , 13.009096 ,\n",
       "       13.370141 , 13.330986 , 13.334788 , 13.024681 , 13.024289 ,\n",
       "       13.032432 , 13.328372 , 13.015163 , 13.323028 , 13.055035 ,\n",
       "       12.998779 , 12.525966 , 13.3313265, 13.4341955, 13.332276 ,\n",
       "       13.33642  , 13.328941 , 13.032432 , 13.326777 , 13.338791 ,\n",
       "       13.015565 , 13.019158 , 13.043001 , 13.338064 , 13.023897 ,\n",
       "       13.030124 , 13.328372 , 13.330732 , 13.336058 , 13.011128 ,\n",
       "       13.339087 , 13.338839 , 13.421461 , 13.423672 , 13.07272  ,\n",
       "       12.551338 , 13.336901 , 13.333943 , 13.007871 , 13.334343 ,\n",
       "       13.337665 , 13.002936 , 13.440307 , 13.034343 , 12.508083 ,\n",
       "       13.026244 , 13.015565 , 13.392782 , 13.037379 , 12.522401 ,\n",
       "       13.045591 , 12.98992  , 13.017964 , 13.424006 , 13.0631485,\n",
       "       13.338323 , 13.009503 , 13.393217 , 13.336111 , 13.005411 ,\n",
       "       13.436773 , 12.997943 , 13.332121 , 13.339466 , 13.008688 ,\n",
       "       13.020349 , 13.022718 , 13.002936 , 13.032047 , 13.057173 ,\n",
       "       13.0628   , 12.880432 , 13.3319645, 13.32551  , 13.040764 ,\n",
       "       13.028964 , 13.025854 , 12.544878 , 13.108457 , 13.3266735,\n",
       "       13.014762 , 13.033197 , 13.126957 , 12.514656 , 13.06419  ,\n",
       "       12.998779 , 13.02193  , 13.333389 , 13.035105 , 13.051075 ,\n",
       "       11.991935 , 13.332733 , 13.081629 , 13.055035 , 12.512865 ,\n",
       "       12.501492 , 13.431512 , 13.029351 , 12.533078 , 13.036623 ,\n",
       "       13.337362 , 12.602741 , 13.400836 , 13.331153 , 13.324742 ,\n",
       "       13.333739 , 13.327287 , 13.045223 , 13.039264 , 13.048162 ,\n",
       "       13.023111 , 12.497889 , 12.550165 , 13.023897 , 13.367108 ,\n",
       "       13.072383 , 13.035864 , 13.015163 , 13.0000305, 12.501492 ,\n",
       "       12.506886 , 13.242829 , 13.330036 , 13.022718 , 13.018761 ,\n",
       "       13.012343 , 13.032814 , 13.057882 , 12.514656 , 13.013958 ,\n",
       "       13.024289 , 13.422148 , 13.329678 , 13.028964 , 13.025073 ,\n",
       "       13.031664 , 13.3303   , 13.32291  , 13.009096 , 13.39792  ,\n",
       "       13.339123 , 12.521211 , 13.33378  , 13.4316635, 13.022954 ,\n",
       "       12.501492 , 12.54429  , 13.041512 , 13.4193735, 13.325619 ,\n",
       "       13.025464 , 13.333029 , 13.421461 , 13.008688 , 13.328564 ,\n",
       "       13.333808 , 12.511074 , 13.036623 , 12.495483 , 12.53367  ,\n",
       "       12.563609 , 13.329588 , 13.326467 , 12.582719 , 13.026244 ,\n",
       "       13.035864 , 13.331236 , 13.328941 , 13.337778 , 13.3306465,\n",
       "       13.01436  , 12.51585  , 13.018362 , 13.332506 , 13.431207 ,\n",
       "       13.047064 , 13.035105 , 13.033961 , 13.3306465, 12.528339 ,\n",
       "       12.509878 , 13.337299 , 13.328372 , 12.513463 , 13.326777 ,\n",
       "       13.037379 , 13.368795 , 12.525966 , 13.330902 , 13.05396  ,\n",
       "       13.071035 , 13.330902 , 13.019158 , 12.996265 , 13.006232 ,\n",
       "       13.011128 , 13.425499 , 13.028577 , 13.011534 , 13.332354 ,\n",
       "       13.00828  , 13.009096 , 13.391476 , 13.33897  , 13.020349 ,\n",
       "       12.544878 , 13.017166 , 13.01436  , 13.061403 , 13.022324 ,\n",
       "       13.327488 , 13.0387   , 13.015163 , 12.518829 , 12.503891 ,\n",
       "       13.049622 , 12.513463 , 12.511074 , 13.339478 , 13.024289 ,\n",
       "       13.338949 , 13.334663 , 13.325832 , 13.322195 , 13.032432 ,\n",
       "       12.509878 , 13.055749 , 13.338816 , 13.333389 , 13.01436  ,\n",
       "       13.330732 , 13.332431 , 12.500892 , 13.324742 , 13.073725 ,\n",
       "       12.495483 , 13.01436  , 13.016566 , 12.561861 , 13.041884 ,\n",
       "       13.000863 , 13.018761 , 13.328081 , 13.015163 , 13.338742 ,\n",
       "       13.330125 , 13.035105 , 13.004999 , 13.334888 , 13.328372 ,\n",
       "       13.329885 , 13.413583 , 13.334973 , 12.521211 , 13.33642  ,\n",
       "       13.015565 , 13.332121 , 13.327687 , 13.025073 , 13.014762 ,\n",
       "       13.333808 , 13.328372 , 13.329588 , 13.012828 , 13.028577 ,\n",
       "       13.433016 , 12.537216 , 13.327786 , 13.015163 , 13.013151 ,\n",
       "       13.007462 , 13.334912 , 13.338884 , 13.331319 , 13.091777 ,\n",
       "       13.322674 , 13.336216 , 12.999615 , 13.327687 , 13.029737 ,\n",
       "       13.038134 , 13.026244 , 13.37729  , 13.010723 , 13.331884 ,\n",
       "       12.521211 , 13.331153 , 13.334277 , 13.334973 , 12.513463 ,\n",
       "       13.012343 , 13.338231 , 13.321648 , 12.998278 , 13.421117 ,\n",
       "       13.043001 , 13.332808 , 13.327786 , 13.012747 , 13.329858 ,\n",
       "       13.013555 , 13.337152 , 13.334912 , 13.038511 , 13.337341 ,\n",
       "       12.525966 , 13.027412 , 11.975821 , 13.02114  , 13.05859  ,\n",
       "       13.33923  , 12.525372 , 13.410376 , 13.044484 , 13.332955 ,\n",
       "       12.506886 , 13.335787 , 13.329496 , 13.337961 , 13.4305935,\n",
       "       13.045591 , 13.325619 , 13.071035 , 12.997943 , 13.336111 ,\n",
       "       13.392347 , 13.013555 , 13.035864 , 13.0000305], dtype=float32)"
      ]
     },
     "execution_count": 12,
     "metadata": {},
     "output_type": "execute_result"
    }
   ],
   "source": [
    "model.predict(X)[:,0]"
   ]
  },
  {
   "cell_type": "code",
   "execution_count": null,
   "id": "4e1cf26a-3acb-410b-96d1-e4ab064a6892",
   "metadata": {},
   "outputs": [],
   "source": []
  }
 ],
 "metadata": {
  "colab": {
   "provenance": []
  },
  "kernelspec": {
   "display_name": "Python (tf-env)",
   "language": "python",
   "name": "tf-env"
  },
  "language_info": {
   "codemirror_mode": {
    "name": "ipython",
    "version": 3
   },
   "file_extension": ".py",
   "mimetype": "text/x-python",
   "name": "python",
   "nbconvert_exporter": "python",
   "pygments_lexer": "ipython3",
   "version": "3.10.0"
  }
 },
 "nbformat": 4,
 "nbformat_minor": 5
}
